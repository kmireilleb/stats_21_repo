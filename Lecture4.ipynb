{
 "cells": [
  {
   "cell_type": "markdown",
   "id": "dcc42436-9f02-45a1-851e-da8dcf2f222b",
   "metadata": {},
   "source": [
    "Values and Types\n",
    "- The default type in R is a double (float)\n",
    "- In python, we have 2 distinct from 2.0 like c++\n",
    "\n",
    "Math Operations\n",
    "- limited set\n",
    "- has math module that can expand the operations\n",
    "- If you dont put a decimal value, it will see it as an interger\n",
    "- Division will always result in a float: you may get just 2 but it will still be a float and will be displayed as 2.0 or 2.\n",
    "- If you multiply or add a float and integer the output will always be a floating point number\n",
    "\n",
    "Floating Point Type\n",
    "- floating point numbers on the computer is not the same as real numbers\n",
    "- It can represent decimals up to 16 places of percision, so there is a finite number of values you can represent\n",
    "- If you try to do a result that goes over the finite amount than you get an overflow error because the number is too large\n",
    "Consequences of Using a Floating Point Number\n",
    "- depending on the order of operations, you'll get a different number of decimal places so it wont be considered equal\n",
    "- ex 2.99999999... vs 3.000000... close to us but not the same to the computer\n",
    "\n",
    "Integer multiplication results in integer\n",
    "sqrt is not defined but you can raise something to the half power\n",
    "base python does not know what pi is, if you want to use it, you have import the math module: inport math\n",
    "- then you will have pi, sqrt, exp, etc\n",
    "\n",
    "If we havent covered a module or library, dont import and use it\n",
    "But can use any function from base python\n",
    "Learn how to read documentation\n",
    "\n",
    "Boolean Type\n",
    "True or False\n",
    "if \"true\" then str and TRUE is not identified\n",
    "\n",
    "Iterables \n",
    "len(string) #number of characters\n",
    "4*string #hihihihi\n",
    ".format function : can be used to fill in place holders\n",
    "name = \" ...\" \n",
    "\"blah blah {name} blah\".format(name = \"...\" or name) #can put in variable or assign the variable in format / { } acts like fill in the blank\n",
    "\n",
    "Assignment\n",
    "variable on left and value on right\n",
    "No output unless you call the variable\n",
    "\n",
    "Python Variables are Pointers \n",
    "- you say you want to have x = 4 so it bonds the x with the value of four so when you call x it points to the bonded value\n",
    "- old stuff gets lost when you reassign, if nothing is refering to it, it will clear it out of memory, automatic memory manager (mean python is not the fastest)\n",
    "\n",
    "Variable Names\n",
    "- same as past rules (no key words, no start with numbers, can have letters numbers and underscore, no spaces, no other symbols)\n",
    "\n",
    "Use clear variable names\n",
    "- have tab completion: if you start typing a varaible name and hit tab and it will finish for you\n",
    "- Case sensitive so upper and lower case makes a difference: snake case and camal case\n",
    "Naming considerations\n",
    "- name of list or array should be plural to indicate that there are multiple objects (gives implication that there is more than one thing in the variable)\n",
    "- if contains boolean than name should be phrased as yes or no question\n",
    "- be specific and not just saying row but min_row, max_row ect\n",
    "- function names: if modifies, say what it will do / use passive form of the verb if it does not modify the list itself but will show you a modified version"
   ]
  },
  {
   "cell_type": "code",
   "execution_count": null,
   "id": "639ba75e-b4ef-4334-9f6d-194e6973e320",
   "metadata": {},
   "outputs": [],
   "source": []
  }
 ],
 "metadata": {
  "kernelspec": {
   "display_name": "Python 3 (ipykernel)",
   "language": "python",
   "name": "python3"
  },
  "language_info": {
   "codemirror_mode": {
    "name": "ipython",
    "version": 3
   },
   "file_extension": ".py",
   "mimetype": "text/x-python",
   "name": "python",
   "nbconvert_exporter": "python",
   "pygments_lexer": "ipython3",
   "version": "3.11.4"
  }
 },
 "nbformat": 4,
 "nbformat_minor": 5
}
